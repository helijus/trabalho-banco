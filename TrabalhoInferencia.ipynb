{
  "nbformat": 4,
  "nbformat_minor": 0,
  "metadata": {
    "colab": {
      "provenance": [],
      "authorship_tag": "ABX9TyPIDQvHvQCy4l+rIOBwLPGO",
      "include_colab_link": true
    },
    "kernelspec": {
      "name": "python3",
      "display_name": "Python 3"
    },
    "language_info": {
      "name": "python"
    }
  },
  "cells": [
    {
      "cell_type": "markdown",
      "metadata": {
        "id": "view-in-github",
        "colab_type": "text"
      },
      "source": [
        "<a href=\"https://colab.research.google.com/github/helijus/trabalho-banco/blob/main/TrabalhoInferencia.ipynb\" target=\"_parent\"><img src=\"https://colab.research.google.com/assets/colab-badge.svg\" alt=\"Open In Colab\"/></a>"
      ]
    },
    {
      "cell_type": "code",
      "source": [
        "import pandas as pd #manipulação de dados em formato de dataframe\n",
        "import numpy as np #biblioteca para operações matemáticas multidimensionais\n",
        "import seaborn as sns #biblioteca de visualização de informações estatísticas\n",
        "import matplotlib.pyplot as plt #biblioteca de visualização de dados\n",
        "from scipy import stats\n",
        "from google.colab import drive"
      ],
      "metadata": {
        "id": "wyjyDTOUApFh"
      },
      "execution_count": 1,
      "outputs": []
    },
    {
      "cell_type": "code",
      "source": [
        "drive.mount('/content/drive')\n",
        "\n",
        "# Caminho do diretório escolhido\n",
        "path = \"/content/drive/MyDrive/Aulas Anisio\""
      ],
      "metadata": {
        "colab": {
          "base_uri": "https://localhost:8080/"
        },
        "id": "f5uBeUKOAr9F",
        "outputId": "7c23a9d1-cd43-47d4-f1cc-24bf79d3efaa"
      },
      "execution_count": 2,
      "outputs": [
        {
          "output_type": "stream",
          "name": "stdout",
          "text": [
            "Mounted at /content/drive\n"
          ]
        }
      ]
    },
    {
      "cell_type": "code",
      "source": [
        "# Leitura do arquivo\n",
        "df_militares = pd.read_csv(path + '/age_dataset.csv', sep=',')\n",
        "\n",
        "df_militares = df_militares.dropna()\n",
        "\n",
        "# Mostrando as 10 primeiras linhas\n",
        "df_militares.head(10)"
      ],
      "metadata": {
        "colab": {
          "base_uri": "https://localhost:8080/",
          "height": 554
        },
        "id": "FWrF8jEqA2M0",
        "outputId": "e1f0def3-2ea0-47f4-a14f-5c4733bdc4b0"
      },
      "execution_count": 3,
      "outputs": [
        {
          "output_type": "execute_result",
          "data": {
            "text/plain": [
              "      Id                       Name  \\\n",
              "0    Q23          George Washington   \n",
              "1    Q42              Douglas Adams   \n",
              "2    Q91            Abraham Lincoln   \n",
              "5   Q260  Jean-François Champollion   \n",
              "7   Q296               Claude Monet   \n",
              "10  Q303              Elvis Presley   \n",
              "13  Q346         Louis IX of France   \n",
              "14  Q352               Adolf Hitler   \n",
              "17  Q368           Augusto Pinochet   \n",
              "20  Q407             Linda Lovelace   \n",
              "\n",
              "                                    Short description  Gender  \\\n",
              "0      1st president of the United States (1732–1799)    Male   \n",
              "1                         English writer and humorist    Male   \n",
              "2     16th president of the United States (1809-1865)    Male   \n",
              "5                            French classical scholar    Male   \n",
              "7            French impressionist painter (1840-1926)    Male   \n",
              "10              American singer and actor (1935–1977)    Male   \n",
              "13                                     king of France    Male   \n",
              "14  Austrian-born German politician, chancellor an...    Male   \n",
              "17           General, politician of Chile (1915-2006)    Male   \n",
              "20  American pornographic actress, later anti-porn...  Female   \n",
              "\n",
              "                                              Country    Occupation  \\\n",
              "0   United States of America; Kingdom of Great Bri...    Politician   \n",
              "1                                      United Kingdom        Artist   \n",
              "2                            United States of America    Politician   \n",
              "5              Kingdom of France; First French Empire  Egyptologist   \n",
              "7                                              France        Artist   \n",
              "10                           United States of America        Artist   \n",
              "13                                             France         Ruler   \n",
              "14  Nazi Germany; Austria-Hungary; Weimar Republic...  Statesperson   \n",
              "17                                              Chile    Politician   \n",
              "20                           United States of America        Artist   \n",
              "\n",
              "    Birth year  Death year Manner of death  Age of death  \n",
              "0         1732      1799.0  natural causes          67.0  \n",
              "1         1952      2001.0  natural causes          49.0  \n",
              "2         1809      1865.0        homicide          56.0  \n",
              "5         1790      1832.0  natural causes          42.0  \n",
              "7         1840      1926.0  natural causes          86.0  \n",
              "10        1935      1977.0  natural causes          42.0  \n",
              "13        1214      1270.0  natural causes          56.0  \n",
              "14        1889      1945.0         suicide          56.0  \n",
              "17        1915      2006.0  natural causes          91.0  \n",
              "20        1949      2002.0        accident          53.0  "
            ],
            "text/html": [
              "\n",
              "  <div id=\"df-011793b7-d73f-40b4-ba57-eb7523796e71\" class=\"colab-df-container\">\n",
              "    <div>\n",
              "<style scoped>\n",
              "    .dataframe tbody tr th:only-of-type {\n",
              "        vertical-align: middle;\n",
              "    }\n",
              "\n",
              "    .dataframe tbody tr th {\n",
              "        vertical-align: top;\n",
              "    }\n",
              "\n",
              "    .dataframe thead th {\n",
              "        text-align: right;\n",
              "    }\n",
              "</style>\n",
              "<table border=\"1\" class=\"dataframe\">\n",
              "  <thead>\n",
              "    <tr style=\"text-align: right;\">\n",
              "      <th></th>\n",
              "      <th>Id</th>\n",
              "      <th>Name</th>\n",
              "      <th>Short description</th>\n",
              "      <th>Gender</th>\n",
              "      <th>Country</th>\n",
              "      <th>Occupation</th>\n",
              "      <th>Birth year</th>\n",
              "      <th>Death year</th>\n",
              "      <th>Manner of death</th>\n",
              "      <th>Age of death</th>\n",
              "    </tr>\n",
              "  </thead>\n",
              "  <tbody>\n",
              "    <tr>\n",
              "      <th>0</th>\n",
              "      <td>Q23</td>\n",
              "      <td>George Washington</td>\n",
              "      <td>1st president of the United States (1732–1799)</td>\n",
              "      <td>Male</td>\n",
              "      <td>United States of America; Kingdom of Great Bri...</td>\n",
              "      <td>Politician</td>\n",
              "      <td>1732</td>\n",
              "      <td>1799.0</td>\n",
              "      <td>natural causes</td>\n",
              "      <td>67.0</td>\n",
              "    </tr>\n",
              "    <tr>\n",
              "      <th>1</th>\n",
              "      <td>Q42</td>\n",
              "      <td>Douglas Adams</td>\n",
              "      <td>English writer and humorist</td>\n",
              "      <td>Male</td>\n",
              "      <td>United Kingdom</td>\n",
              "      <td>Artist</td>\n",
              "      <td>1952</td>\n",
              "      <td>2001.0</td>\n",
              "      <td>natural causes</td>\n",
              "      <td>49.0</td>\n",
              "    </tr>\n",
              "    <tr>\n",
              "      <th>2</th>\n",
              "      <td>Q91</td>\n",
              "      <td>Abraham Lincoln</td>\n",
              "      <td>16th president of the United States (1809-1865)</td>\n",
              "      <td>Male</td>\n",
              "      <td>United States of America</td>\n",
              "      <td>Politician</td>\n",
              "      <td>1809</td>\n",
              "      <td>1865.0</td>\n",
              "      <td>homicide</td>\n",
              "      <td>56.0</td>\n",
              "    </tr>\n",
              "    <tr>\n",
              "      <th>5</th>\n",
              "      <td>Q260</td>\n",
              "      <td>Jean-François Champollion</td>\n",
              "      <td>French classical scholar</td>\n",
              "      <td>Male</td>\n",
              "      <td>Kingdom of France; First French Empire</td>\n",
              "      <td>Egyptologist</td>\n",
              "      <td>1790</td>\n",
              "      <td>1832.0</td>\n",
              "      <td>natural causes</td>\n",
              "      <td>42.0</td>\n",
              "    </tr>\n",
              "    <tr>\n",
              "      <th>7</th>\n",
              "      <td>Q296</td>\n",
              "      <td>Claude Monet</td>\n",
              "      <td>French impressionist painter (1840-1926)</td>\n",
              "      <td>Male</td>\n",
              "      <td>France</td>\n",
              "      <td>Artist</td>\n",
              "      <td>1840</td>\n",
              "      <td>1926.0</td>\n",
              "      <td>natural causes</td>\n",
              "      <td>86.0</td>\n",
              "    </tr>\n",
              "    <tr>\n",
              "      <th>10</th>\n",
              "      <td>Q303</td>\n",
              "      <td>Elvis Presley</td>\n",
              "      <td>American singer and actor (1935–1977)</td>\n",
              "      <td>Male</td>\n",
              "      <td>United States of America</td>\n",
              "      <td>Artist</td>\n",
              "      <td>1935</td>\n",
              "      <td>1977.0</td>\n",
              "      <td>natural causes</td>\n",
              "      <td>42.0</td>\n",
              "    </tr>\n",
              "    <tr>\n",
              "      <th>13</th>\n",
              "      <td>Q346</td>\n",
              "      <td>Louis IX of France</td>\n",
              "      <td>king of France</td>\n",
              "      <td>Male</td>\n",
              "      <td>France</td>\n",
              "      <td>Ruler</td>\n",
              "      <td>1214</td>\n",
              "      <td>1270.0</td>\n",
              "      <td>natural causes</td>\n",
              "      <td>56.0</td>\n",
              "    </tr>\n",
              "    <tr>\n",
              "      <th>14</th>\n",
              "      <td>Q352</td>\n",
              "      <td>Adolf Hitler</td>\n",
              "      <td>Austrian-born German politician, chancellor an...</td>\n",
              "      <td>Male</td>\n",
              "      <td>Nazi Germany; Austria-Hungary; Weimar Republic...</td>\n",
              "      <td>Statesperson</td>\n",
              "      <td>1889</td>\n",
              "      <td>1945.0</td>\n",
              "      <td>suicide</td>\n",
              "      <td>56.0</td>\n",
              "    </tr>\n",
              "    <tr>\n",
              "      <th>17</th>\n",
              "      <td>Q368</td>\n",
              "      <td>Augusto Pinochet</td>\n",
              "      <td>General, politician of Chile (1915-2006)</td>\n",
              "      <td>Male</td>\n",
              "      <td>Chile</td>\n",
              "      <td>Politician</td>\n",
              "      <td>1915</td>\n",
              "      <td>2006.0</td>\n",
              "      <td>natural causes</td>\n",
              "      <td>91.0</td>\n",
              "    </tr>\n",
              "    <tr>\n",
              "      <th>20</th>\n",
              "      <td>Q407</td>\n",
              "      <td>Linda Lovelace</td>\n",
              "      <td>American pornographic actress, later anti-porn...</td>\n",
              "      <td>Female</td>\n",
              "      <td>United States of America</td>\n",
              "      <td>Artist</td>\n",
              "      <td>1949</td>\n",
              "      <td>2002.0</td>\n",
              "      <td>accident</td>\n",
              "      <td>53.0</td>\n",
              "    </tr>\n",
              "  </tbody>\n",
              "</table>\n",
              "</div>\n",
              "    <div class=\"colab-df-buttons\">\n",
              "\n",
              "  <div class=\"colab-df-container\">\n",
              "    <button class=\"colab-df-convert\" onclick=\"convertToInteractive('df-011793b7-d73f-40b4-ba57-eb7523796e71')\"\n",
              "            title=\"Convert this dataframe to an interactive table.\"\n",
              "            style=\"display:none;\">\n",
              "\n",
              "  <svg xmlns=\"http://www.w3.org/2000/svg\" height=\"24px\" viewBox=\"0 -960 960 960\">\n",
              "    <path d=\"M120-120v-720h720v720H120Zm60-500h600v-160H180v160Zm220 220h160v-160H400v160Zm0 220h160v-160H400v160ZM180-400h160v-160H180v160Zm440 0h160v-160H620v160ZM180-180h160v-160H180v160Zm440 0h160v-160H620v160Z\"/>\n",
              "  </svg>\n",
              "    </button>\n",
              "\n",
              "  <style>\n",
              "    .colab-df-container {\n",
              "      display:flex;\n",
              "      gap: 12px;\n",
              "    }\n",
              "\n",
              "    .colab-df-convert {\n",
              "      background-color: #E8F0FE;\n",
              "      border: none;\n",
              "      border-radius: 50%;\n",
              "      cursor: pointer;\n",
              "      display: none;\n",
              "      fill: #1967D2;\n",
              "      height: 32px;\n",
              "      padding: 0 0 0 0;\n",
              "      width: 32px;\n",
              "    }\n",
              "\n",
              "    .colab-df-convert:hover {\n",
              "      background-color: #E2EBFA;\n",
              "      box-shadow: 0px 1px 2px rgba(60, 64, 67, 0.3), 0px 1px 3px 1px rgba(60, 64, 67, 0.15);\n",
              "      fill: #174EA6;\n",
              "    }\n",
              "\n",
              "    .colab-df-buttons div {\n",
              "      margin-bottom: 4px;\n",
              "    }\n",
              "\n",
              "    [theme=dark] .colab-df-convert {\n",
              "      background-color: #3B4455;\n",
              "      fill: #D2E3FC;\n",
              "    }\n",
              "\n",
              "    [theme=dark] .colab-df-convert:hover {\n",
              "      background-color: #434B5C;\n",
              "      box-shadow: 0px 1px 3px 1px rgba(0, 0, 0, 0.15);\n",
              "      filter: drop-shadow(0px 1px 2px rgba(0, 0, 0, 0.3));\n",
              "      fill: #FFFFFF;\n",
              "    }\n",
              "  </style>\n",
              "\n",
              "    <script>\n",
              "      const buttonEl =\n",
              "        document.querySelector('#df-011793b7-d73f-40b4-ba57-eb7523796e71 button.colab-df-convert');\n",
              "      buttonEl.style.display =\n",
              "        google.colab.kernel.accessAllowed ? 'block' : 'none';\n",
              "\n",
              "      async function convertToInteractive(key) {\n",
              "        const element = document.querySelector('#df-011793b7-d73f-40b4-ba57-eb7523796e71');\n",
              "        const dataTable =\n",
              "          await google.colab.kernel.invokeFunction('convertToInteractive',\n",
              "                                                    [key], {});\n",
              "        if (!dataTable) return;\n",
              "\n",
              "        const docLinkHtml = 'Like what you see? Visit the ' +\n",
              "          '<a target=\"_blank\" href=https://colab.research.google.com/notebooks/data_table.ipynb>data table notebook</a>'\n",
              "          + ' to learn more about interactive tables.';\n",
              "        element.innerHTML = '';\n",
              "        dataTable['output_type'] = 'display_data';\n",
              "        await google.colab.output.renderOutput(dataTable, element);\n",
              "        const docLink = document.createElement('div');\n",
              "        docLink.innerHTML = docLinkHtml;\n",
              "        element.appendChild(docLink);\n",
              "      }\n",
              "    </script>\n",
              "  </div>\n",
              "\n",
              "\n",
              "<div id=\"df-9556508c-6450-4365-b7c5-f2c9327e8b7f\">\n",
              "  <button class=\"colab-df-quickchart\" onclick=\"quickchart('df-9556508c-6450-4365-b7c5-f2c9327e8b7f')\"\n",
              "            title=\"Suggest charts\"\n",
              "            style=\"display:none;\">\n",
              "\n",
              "<svg xmlns=\"http://www.w3.org/2000/svg\" height=\"24px\"viewBox=\"0 0 24 24\"\n",
              "     width=\"24px\">\n",
              "    <g>\n",
              "        <path d=\"M19 3H5c-1.1 0-2 .9-2 2v14c0 1.1.9 2 2 2h14c1.1 0 2-.9 2-2V5c0-1.1-.9-2-2-2zM9 17H7v-7h2v7zm4 0h-2V7h2v10zm4 0h-2v-4h2v4z\"/>\n",
              "    </g>\n",
              "</svg>\n",
              "  </button>\n",
              "\n",
              "<style>\n",
              "  .colab-df-quickchart {\n",
              "      --bg-color: #E8F0FE;\n",
              "      --fill-color: #1967D2;\n",
              "      --hover-bg-color: #E2EBFA;\n",
              "      --hover-fill-color: #174EA6;\n",
              "      --disabled-fill-color: #AAA;\n",
              "      --disabled-bg-color: #DDD;\n",
              "  }\n",
              "\n",
              "  [theme=dark] .colab-df-quickchart {\n",
              "      --bg-color: #3B4455;\n",
              "      --fill-color: #D2E3FC;\n",
              "      --hover-bg-color: #434B5C;\n",
              "      --hover-fill-color: #FFFFFF;\n",
              "      --disabled-bg-color: #3B4455;\n",
              "      --disabled-fill-color: #666;\n",
              "  }\n",
              "\n",
              "  .colab-df-quickchart {\n",
              "    background-color: var(--bg-color);\n",
              "    border: none;\n",
              "    border-radius: 50%;\n",
              "    cursor: pointer;\n",
              "    display: none;\n",
              "    fill: var(--fill-color);\n",
              "    height: 32px;\n",
              "    padding: 0;\n",
              "    width: 32px;\n",
              "  }\n",
              "\n",
              "  .colab-df-quickchart:hover {\n",
              "    background-color: var(--hover-bg-color);\n",
              "    box-shadow: 0 1px 2px rgba(60, 64, 67, 0.3), 0 1px 3px 1px rgba(60, 64, 67, 0.15);\n",
              "    fill: var(--button-hover-fill-color);\n",
              "  }\n",
              "\n",
              "  .colab-df-quickchart-complete:disabled,\n",
              "  .colab-df-quickchart-complete:disabled:hover {\n",
              "    background-color: var(--disabled-bg-color);\n",
              "    fill: var(--disabled-fill-color);\n",
              "    box-shadow: none;\n",
              "  }\n",
              "\n",
              "  .colab-df-spinner {\n",
              "    border: 2px solid var(--fill-color);\n",
              "    border-color: transparent;\n",
              "    border-bottom-color: var(--fill-color);\n",
              "    animation:\n",
              "      spin 1s steps(1) infinite;\n",
              "  }\n",
              "\n",
              "  @keyframes spin {\n",
              "    0% {\n",
              "      border-color: transparent;\n",
              "      border-bottom-color: var(--fill-color);\n",
              "      border-left-color: var(--fill-color);\n",
              "    }\n",
              "    20% {\n",
              "      border-color: transparent;\n",
              "      border-left-color: var(--fill-color);\n",
              "      border-top-color: var(--fill-color);\n",
              "    }\n",
              "    30% {\n",
              "      border-color: transparent;\n",
              "      border-left-color: var(--fill-color);\n",
              "      border-top-color: var(--fill-color);\n",
              "      border-right-color: var(--fill-color);\n",
              "    }\n",
              "    40% {\n",
              "      border-color: transparent;\n",
              "      border-right-color: var(--fill-color);\n",
              "      border-top-color: var(--fill-color);\n",
              "    }\n",
              "    60% {\n",
              "      border-color: transparent;\n",
              "      border-right-color: var(--fill-color);\n",
              "    }\n",
              "    80% {\n",
              "      border-color: transparent;\n",
              "      border-right-color: var(--fill-color);\n",
              "      border-bottom-color: var(--fill-color);\n",
              "    }\n",
              "    90% {\n",
              "      border-color: transparent;\n",
              "      border-bottom-color: var(--fill-color);\n",
              "    }\n",
              "  }\n",
              "</style>\n",
              "\n",
              "  <script>\n",
              "    async function quickchart(key) {\n",
              "      const quickchartButtonEl =\n",
              "        document.querySelector('#' + key + ' button');\n",
              "      quickchartButtonEl.disabled = true;  // To prevent multiple clicks.\n",
              "      quickchartButtonEl.classList.add('colab-df-spinner');\n",
              "      try {\n",
              "        const charts = await google.colab.kernel.invokeFunction(\n",
              "            'suggestCharts', [key], {});\n",
              "      } catch (error) {\n",
              "        console.error('Error during call to suggestCharts:', error);\n",
              "      }\n",
              "      quickchartButtonEl.classList.remove('colab-df-spinner');\n",
              "      quickchartButtonEl.classList.add('colab-df-quickchart-complete');\n",
              "    }\n",
              "    (() => {\n",
              "      let quickchartButtonEl =\n",
              "        document.querySelector('#df-9556508c-6450-4365-b7c5-f2c9327e8b7f button');\n",
              "      quickchartButtonEl.style.display =\n",
              "        google.colab.kernel.accessAllowed ? 'block' : 'none';\n",
              "    })();\n",
              "  </script>\n",
              "</div>\n",
              "\n",
              "    </div>\n",
              "  </div>\n"
            ],
            "application/vnd.google.colaboratory.intrinsic+json": {
              "type": "dataframe",
              "variable_name": "df_militares",
              "summary": "{\n  \"name\": \"df_militares\",\n  \"rows\": 45828,\n  \"fields\": [\n    {\n      \"column\": \"Id\",\n      \"properties\": {\n        \"dtype\": \"string\",\n        \"num_unique_values\": 45828,\n        \"samples\": [\n          \"Q5134102\",\n          \"Q218494\",\n          \"Q6131491\"\n        ],\n        \"semantic_type\": \"\",\n        \"description\": \"\"\n      }\n    },\n    {\n      \"column\": \"Name\",\n      \"properties\": {\n        \"dtype\": \"string\",\n        \"num_unique_values\": 45539,\n        \"samples\": [\n          \"Qiu Miaojin\",\n          \"Townes Van Zandt\",\n          \"Ildefonso Fern\\u00e1ndez Mu\\u00f1iz\"\n        ],\n        \"semantic_type\": \"\",\n        \"description\": \"\"\n      }\n    },\n    {\n      \"column\": \"Short description\",\n      \"properties\": {\n        \"dtype\": \"string\",\n        \"num_unique_values\": 28961,\n        \"samples\": [\n          \"architect from England (1839\\u20131897)\",\n          \"American actor (1929-2001)\",\n          \"Russian artist (1902-1929)\"\n        ],\n        \"semantic_type\": \"\",\n        \"description\": \"\"\n      }\n    },\n    {\n      \"column\": \"Gender\",\n      \"properties\": {\n        \"dtype\": \"category\",\n        \"num_unique_values\": 8,\n        \"samples\": [\n          \"Female\",\n          \"Transgender Male\",\n          \"Male\"\n        ],\n        \"semantic_type\": \"\",\n        \"description\": \"\"\n      }\n    },\n    {\n      \"column\": \"Country\",\n      \"properties\": {\n        \"dtype\": \"category\",\n        \"num_unique_values\": 1573,\n        \"samples\": [\n          \"Russian Soviet Federative Socialist Republic; Soviet Union\",\n          \"Estonia\",\n          \"Mauritius\"\n        ],\n        \"semantic_type\": \"\",\n        \"description\": \"\"\n      }\n    },\n    {\n      \"column\": \"Occupation\",\n      \"properties\": {\n        \"dtype\": \"category\",\n        \"num_unique_values\": 1593,\n        \"samples\": [\n          \"Ornithologist; ichthyologist; herpetologist\",\n          \"Governor; major\",\n          \"Editor; novelist; essayist; activist\"\n        ],\n        \"semantic_type\": \"\",\n        \"description\": \"\"\n      }\n    },\n    {\n      \"column\": \"Birth year\",\n      \"properties\": {\n        \"dtype\": \"number\",\n        \"std\": 155,\n        \"min\": -1200,\n        \"max\": 2002,\n        \"num_unique_values\": 985,\n        \"samples\": [\n          1310,\n          454,\n          -50\n        ],\n        \"semantic_type\": \"\",\n        \"description\": \"\"\n      }\n    },\n    {\n      \"column\": \"Death year\",\n      \"properties\": {\n        \"dtype\": \"number\",\n        \"std\": 158.54450776278745,\n        \"min\": -1145.0,\n        \"max\": 2020.0,\n        \"num_unique_values\": 955,\n        \"samples\": [\n          1644.0,\n          1577.0,\n          1434.0\n        ],\n        \"semantic_type\": \"\",\n        \"description\": \"\"\n      }\n    },\n    {\n      \"column\": \"Manner of death\",\n      \"properties\": {\n        \"dtype\": \"category\",\n        \"num_unique_values\": 177,\n        \"samples\": [\n          \"suicide; homicide; natural causes\",\n          \"unfortunate accident\",\n          \"missing person\"\n        ],\n        \"semantic_type\": \"\",\n        \"description\": \"\"\n      }\n    },\n    {\n      \"column\": \"Age of death\",\n      \"properties\": {\n        \"dtype\": \"number\",\n        \"std\": 18.24500179963488,\n        \"min\": 11.0,\n        \"max\": 122.0,\n        \"num_unique_values\": 91,\n        \"samples\": [\n          72.0,\n          58.0,\n          47.0\n        ],\n        \"semantic_type\": \"\",\n        \"description\": \"\"\n      }\n    }\n  ]\n}"
            }
          },
          "metadata": {},
          "execution_count": 3
        }
      ]
    },
    {
      "cell_type": "markdown",
      "source": [
        "## 1. Escolha das Váriáveis e Motivo:\n",
        "\n",
        "  **Profissão:** Militar\n",
        "\n",
        "  **Genêro:** Feminino (mais foco) e Masculino\n",
        "\n",
        "  **Motivo**: Analisar se mulheres que possuem cargos militares tem vida mais longa que homens que pertencem a cargos militares."
      ],
      "metadata": {
        "id": "Edd5GD9rM-qZ"
      }
    },
    {
      "cell_type": "markdown",
      "source": [
        "##2. Análise Estatística Descritiva\n",
        "\n",
        "\n",
        "*   **Distribuição dos dados:**\n",
        "\n",
        "\n",
        "\n"
      ],
      "metadata": {
        "id": "HRtybP6cOOeX"
      }
    },
    {
      "cell_type": "code",
      "source": [],
      "metadata": {
        "id": "N6jQ4eKqQFEn"
      },
      "execution_count": null,
      "outputs": []
    },
    {
      "cell_type": "markdown",
      "source": [
        "####**Hipótese exploratória:** Homens que pertencem a cargos militares tendem a morrer mais novos que mulheres desses cargos.\n",
        "\n",
        "####**Hipótese usando tabelas**: Criação de tabelas para comparação dos dados e apoio na hipótese exploratória."
      ],
      "metadata": {
        "id": "kAQEuDHrC_RK"
      }
    },
    {
      "cell_type": "markdown",
      "source": [
        "####Legendando os cargos que podem ser considerados do meio militar:"
      ],
      "metadata": {
        "id": "56xGzM7PD1w2"
      }
    },
    {
      "cell_type": "markdown",
      "source": [
        "## Profissões do Meio Militar\n",
        "\n",
        "| Profissão em Português                               | Correspondente em Inglês                              |\n",
        "|-----------------------------------------------------|-------------------------------------------------------|\n",
        "| Militar                                             | Military personnel                                                |\n",
        "| Combatente | Resistance fighter             |\n",
        "| Oficial                                         | Official                                                |\n",
        "|\n",
        "Combatente da resistência francesa                             | French resistance fighter |\n",
        "| Combatente da Força Aérea                     | Air force officer                              |\n",
        "\n"
      ],
      "metadata": {
        "id": "dwLapzeo6KhW"
      }
    },
    {
      "cell_type": "markdown",
      "source": [],
      "metadata": {
        "id": "6RYEQqxcEFjV"
      }
    },
    {
      "cell_type": "markdown",
      "source": [
        "###Caculando a média, moda e mediana da idade de morte (por enquanto de todos os registros, mas preciso contar somente a idade de morte do pessoal militar)"
      ],
      "metadata": {
        "id": "WLbLS8P0_XFH"
      }
    },
    {
      "cell_type": "code",
      "source": [
        "df_militares['Gender'].describe()"
      ],
      "metadata": {
        "colab": {
          "base_uri": "https://localhost:8080/",
          "height": 210
        },
        "id": "ijIhPF5kAUEF",
        "outputId": "f801eb1e-141d-4602-f94d-afdeac845d9a"
      },
      "execution_count": 7,
      "outputs": [
        {
          "output_type": "execute_result",
          "data": {
            "text/plain": [
              "count     45828\n",
              "unique        8\n",
              "top        Male\n",
              "freq      38476\n",
              "Name: Gender, dtype: object"
            ],
            "text/html": [
              "<div>\n",
              "<style scoped>\n",
              "    .dataframe tbody tr th:only-of-type {\n",
              "        vertical-align: middle;\n",
              "    }\n",
              "\n",
              "    .dataframe tbody tr th {\n",
              "        vertical-align: top;\n",
              "    }\n",
              "\n",
              "    .dataframe thead th {\n",
              "        text-align: right;\n",
              "    }\n",
              "</style>\n",
              "<table border=\"1\" class=\"dataframe\">\n",
              "  <thead>\n",
              "    <tr style=\"text-align: right;\">\n",
              "      <th></th>\n",
              "      <th>Gender</th>\n",
              "    </tr>\n",
              "  </thead>\n",
              "  <tbody>\n",
              "    <tr>\n",
              "      <th>count</th>\n",
              "      <td>45828</td>\n",
              "    </tr>\n",
              "    <tr>\n",
              "      <th>unique</th>\n",
              "      <td>8</td>\n",
              "    </tr>\n",
              "    <tr>\n",
              "      <th>top</th>\n",
              "      <td>Male</td>\n",
              "    </tr>\n",
              "    <tr>\n",
              "      <th>freq</th>\n",
              "      <td>38476</td>\n",
              "    </tr>\n",
              "  </tbody>\n",
              "</table>\n",
              "</div><br><label><b>dtype:</b> object</label>"
            ]
          },
          "metadata": {},
          "execution_count": 7
        }
      ]
    },
    {
      "cell_type": "code",
      "source": [
        "militar_professions = [\n",
        "    \"Military personnel\",\n",
        "    \"Resistance fighter\",\n",
        "    \"Official\",\n",
        "    \"Air force officer\",\n",
        "    \"French resistance fighter\"\n",
        "]"
      ],
      "metadata": {
        "id": "A4KgyuI_FZP2"
      },
      "execution_count": null,
      "outputs": []
    },
    {
      "cell_type": "code",
      "source": [
        "militar = df[df['Occupation'].isin(militar_professions)]\n",
        "\n",
        "militar.head(30)"
      ],
      "metadata": {
        "colab": {
          "base_uri": "https://localhost:8080/",
          "height": 176
        },
        "id": "yc3uWXdvFj8b",
        "outputId": "3f9b3d9b-96f2-4b59-849e-1bbb6c040c40"
      },
      "execution_count": null,
      "outputs": [
        {
          "output_type": "error",
          "ename": "NameError",
          "evalue": "name 'df' is not defined",
          "traceback": [
            "\u001b[0;31m---------------------------------------------------------------------------\u001b[0m",
            "\u001b[0;31mNameError\u001b[0m                                 Traceback (most recent call last)",
            "\u001b[0;32m<ipython-input-11-d5bf03d8f8eb>\u001b[0m in \u001b[0;36m<cell line: 1>\u001b[0;34m()\u001b[0m\n\u001b[0;32m----> 1\u001b[0;31m \u001b[0mmilitar\u001b[0m \u001b[0;34m=\u001b[0m \u001b[0mdf\u001b[0m\u001b[0;34m[\u001b[0m\u001b[0mdf\u001b[0m\u001b[0;34m[\u001b[0m\u001b[0;34m'Occupation'\u001b[0m\u001b[0;34m]\u001b[0m\u001b[0;34m.\u001b[0m\u001b[0misin\u001b[0m\u001b[0;34m(\u001b[0m\u001b[0mmilitar_professions\u001b[0m\u001b[0;34m)\u001b[0m\u001b[0;34m]\u001b[0m\u001b[0;34m\u001b[0m\u001b[0;34m\u001b[0m\u001b[0m\n\u001b[0m\u001b[1;32m      2\u001b[0m \u001b[0;34m\u001b[0m\u001b[0m\n\u001b[1;32m      3\u001b[0m \u001b[0mmilitar\u001b[0m\u001b[0;34m.\u001b[0m\u001b[0mhead\u001b[0m\u001b[0;34m(\u001b[0m\u001b[0;36m30\u001b[0m\u001b[0;34m)\u001b[0m\u001b[0;34m\u001b[0m\u001b[0;34m\u001b[0m\u001b[0m\n",
            "\u001b[0;31mNameError\u001b[0m: name 'df' is not defined"
          ]
        }
      ]
    },
    {
      "cell_type": "markdown",
      "source": [
        "\n",
        "O correto seria tirar a media de idade baseado no vetor df_militares, já que possui apenas os cargos militares.\n"
      ],
      "metadata": {
        "id": "S8610dIWHTJM"
      }
    },
    {
      "cell_type": "code",
      "source": [],
      "metadata": {
        "id": "FZaID66EHS2z"
      },
      "execution_count": null,
      "outputs": []
    },
    {
      "cell_type": "code",
      "source": [
        "moda = stats.mode(df_militares['Age of death'])\n",
        "\n",
        "print(f\"A moda é: {moda}\")\n",
        "\n",
        "media = df_militares['Age of death'].mean()\n",
        "\n",
        "print(f\"A média é: {media}\")\n",
        "\n",
        "mediana = df_militares['Age of death'].median()\n",
        "\n",
        "print(f\"A mediana é: {mediana}\")"
      ],
      "metadata": {
        "colab": {
          "base_uri": "https://localhost:8080/"
        },
        "id": "VQCXp2wuACOa",
        "outputId": "d2288778-07e2-416a-b51d-200d82854734"
      },
      "execution_count": null,
      "outputs": [
        {
          "output_type": "stream",
          "name": "stdout",
          "text": [
            "A moda é: ModeResult(mode=67.0, count=950)\n",
            "A média é: 59.50820459107969\n",
            "A mediana é: 61.0\n"
          ]
        }
      ]
    }
  ]
}